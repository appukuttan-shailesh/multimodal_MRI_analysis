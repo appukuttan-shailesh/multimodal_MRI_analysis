{
 "cells": [
  {
   "cell_type": "code",
   "execution_count": 11,
   "id": "0aabddfe-3d37-42be-8426-49dbea230b60",
   "metadata": {
    "tags": []
   },
   "outputs": [],
   "source": [
    "import numpy as np\n",
    "import pandas as pd\n",
    "import chardet as cd"
   ]
  },
  {
   "cell_type": "code",
   "execution_count": 6,
   "id": "56f9c4d2-cc1e-4eea-86e1-8eb777edc0bf",
   "metadata": {
    "tags": []
   },
   "outputs": [],
   "source": [
    "# path to file\n",
    "path = 'BRAINT/sourcedata/sub-002/ses-02/sub-002_ses-02_task-03ArchiLocalizer_23_03_21_14_07.txt'"
   ]
  },
  {
   "cell_type": "code",
   "execution_count": 12,
   "id": "f541c244-6ca1-4b82-b38b-677989114290",
   "metadata": {
    "tags": []
   },
   "outputs": [
    {
     "name": "stdout",
     "output_type": "stream",
     "text": [
      "{'encoding': 'ISO-8859-1', 'confidence': 0.73, 'language': ''}\n"
     ]
    }
   ],
   "source": [
    "# to determine the encoding, which is not standard here\n",
    "\n",
    "with open(path, 'rb') as f:\n",
    "    result = cd.detect(f.read())  # or readline if the file is large\n",
    "    \n",
    "print(result)"
   ]
  },
  {
   "cell_type": "code",
   "execution_count": 18,
   "id": "24db73d7-9dca-4d06-9e0b-da11a66febf4",
   "metadata": {
    "tags": []
   },
   "outputs": [
    {
     "name": "stdout",
     "output_type": "stream",
     "text": [
      "     CONDITIONS  DURATIONS STIM_TEXT STIM_BITMAP STIM_WAV  RESPONSE_BUTTON  \\\n",
      "0             0         52       NaN        Noir      NaN                0   \n",
      "1             8         27       NaN        Noir    calc1                0   \n",
      "2             0          6       NaN        Noir      NaN                0   \n",
      "3             8         27       NaN        Noir    calc2                0   \n",
      "4             0         18       NaN        Noir      NaN                0   \n",
      "..          ...        ...       ...         ...      ...              ...   \n",
      "484           5         18       NaN        Noir      NaN                4   \n",
      "485          10         27       NaN        Noir      ph9                0   \n",
      "486           0         21       NaN        Noir      NaN                0   \n",
      "487          10         27       NaN        Noir     ph10                0   \n",
      "488           0         83       NaN        Noir      NaN                0   \n",
      "\n",
      "     ONSETS_TRIGGERS  ONSETS_MS  REPONSE_1  JUSTE  INSTANT_REPONSE  \\\n",
      "0                  0          0          0      0                0   \n",
      "1                 52       4160          0      0                0   \n",
      "2                 79       6320          0      0                0   \n",
      "3                 85       6800          0      0                0   \n",
      "4                112       8960          0      0                0   \n",
      "..               ...        ...        ...    ...              ...   \n",
      "484             4259     340717          0      0                0   \n",
      "485             4277     342157          0      0                0   \n",
      "486             4304     344316          0      0                0   \n",
      "487             4325     345997          0      0                0   \n",
      "488             4352     348156          0      0                0   \n",
      "\n",
      "     TEMPS_REACTION  \n",
      "0                 0  \n",
      "1                 0  \n",
      "2                 0  \n",
      "3                 0  \n",
      "4                 0  \n",
      "..              ...  \n",
      "484      4294626579  \n",
      "485               0  \n",
      "486               0  \n",
      "487               0  \n",
      "488               0  \n",
      "\n",
      "[489 rows x 12 columns]\n"
     ]
    }
   ],
   "source": [
    "df_orig = pd.read_csv(path, encoding='ISO-8859-1', delimiter='\\t')\n",
    "\n",
    "print(df_orig)"
   ]
  },
  {
   "cell_type": "code",
   "execution_count": 57,
   "id": "78a045a1-db74-4c02-8b3e-8add6f41d14d",
   "metadata": {
    "tags": []
   },
   "outputs": [],
   "source": [
    "# DataFrame for events: condition, onset, duration; time in seconds for nilearn\n",
    "df_ev = pd.DataFrame()\n",
    "\n",
    "# previous condition to check blocks\n",
    "prev_cond = ''\n",
    "# initialize duration and onset (in seconds)\n",
    "duration = -1.0\n",
    "onset = -1.0\n",
    "onset2 = -1.0\n",
    "\n",
    "# iterate over rows348156\n",
    "for l in df_orig[['CONDITIONS', 'ONSETS_MS', 'ONSETS_TRIGGERS', 'DURATIONS']].iterrows():\n",
    "    # get values\n",
    "    _, (cur_cond, cur_ons2, cur_ons, cur_dur) = l\n",
    "    # check if equality between current and past values for condition\n",
    "    if cur_cond==prev_cond:\n",
    "        duration += cur_dur\n",
    "    else:\n",
    "        # add row to DataFrame (conversion of onset and duration from trigger to seconds, 1 trigger = 80 ms; conversion of onset 2 from ms to s)\n",
    "#        print(cur_cond, onset, duration)\n",
    "        if not prev_cond=='':\n",
    "            df_tmp = pd.DataFrame({'condition': prev_cond, 'onset2': onset2 / 1000.0, 'onset': onset * 0.08, 'duration': duration * 0.08}, [0])\n",
    "            df_ev = pd.concat((df_ev, df_tmp), ignore_index=True)\n",
    "        # move to next block\n",
    "        prev_cond = cur_cond\n",
    "        onset2 = cur_ons2\n",
    "        onset = cur_ons\n",
    "        duration = cur_dur\n",
    "    "
   ]
  },
  {
   "cell_type": "code",
   "execution_count": 59,
   "id": "b2106627-2f7d-4757-a4ae-1bf5395222b7",
   "metadata": {
    "tags": []
   },
   "outputs": [
    {
     "data": {
      "text/html": [
       "<div>\n",
       "<style scoped>\n",
       "    .dataframe tbody tr th:only-of-type {\n",
       "        vertical-align: middle;\n",
       "    }\n",
       "\n",
       "    .dataframe tbody tr th {\n",
       "        vertical-align: top;\n",
       "    }\n",
       "\n",
       "    .dataframe thead th {\n",
       "        text-align: right;\n",
       "    }\n",
       "</style>\n",
       "<table border=\"1\" class=\"dataframe\">\n",
       "  <thead>\n",
       "    <tr style=\"text-align: right;\">\n",
       "      <th></th>\n",
       "      <th>condition</th>\n",
       "      <th>onset2</th>\n",
       "      <th>onset</th>\n",
       "      <th>duration</th>\n",
       "    </tr>\n",
       "  </thead>\n",
       "  <tbody>\n",
       "    <tr>\n",
       "      <th>0</th>\n",
       "      <td>0</td>\n",
       "      <td>0.000</td>\n",
       "      <td>0.00</td>\n",
       "      <td>4.16</td>\n",
       "    </tr>\n",
       "    <tr>\n",
       "      <th>1</th>\n",
       "      <td>8</td>\n",
       "      <td>4.160</td>\n",
       "      <td>4.16</td>\n",
       "      <td>2.16</td>\n",
       "    </tr>\n",
       "    <tr>\n",
       "      <th>2</th>\n",
       "      <td>0</td>\n",
       "      <td>6.320</td>\n",
       "      <td>6.32</td>\n",
       "      <td>0.48</td>\n",
       "    </tr>\n",
       "    <tr>\n",
       "      <th>3</th>\n",
       "      <td>8</td>\n",
       "      <td>6.800</td>\n",
       "      <td>6.80</td>\n",
       "      <td>2.16</td>\n",
       "    </tr>\n",
       "    <tr>\n",
       "      <th>4</th>\n",
       "      <td>0</td>\n",
       "      <td>8.960</td>\n",
       "      <td>8.96</td>\n",
       "      <td>3.60</td>\n",
       "    </tr>\n",
       "    <tr>\n",
       "      <th>...</th>\n",
       "      <td>...</td>\n",
       "      <td>...</td>\n",
       "      <td>...</td>\n",
       "      <td>...</td>\n",
       "    </tr>\n",
       "    <tr>\n",
       "      <th>153</th>\n",
       "      <td>0</td>\n",
       "      <td>338.076</td>\n",
       "      <td>338.08</td>\n",
       "      <td>1.36</td>\n",
       "    </tr>\n",
       "    <tr>\n",
       "      <th>154</th>\n",
       "      <td>5</td>\n",
       "      <td>339.436</td>\n",
       "      <td>339.44</td>\n",
       "      <td>2.72</td>\n",
       "    </tr>\n",
       "    <tr>\n",
       "      <th>155</th>\n",
       "      <td>10</td>\n",
       "      <td>342.157</td>\n",
       "      <td>342.16</td>\n",
       "      <td>2.16</td>\n",
       "    </tr>\n",
       "    <tr>\n",
       "      <th>156</th>\n",
       "      <td>0</td>\n",
       "      <td>344.316</td>\n",
       "      <td>344.32</td>\n",
       "      <td>1.68</td>\n",
       "    </tr>\n",
       "    <tr>\n",
       "      <th>157</th>\n",
       "      <td>10</td>\n",
       "      <td>345.997</td>\n",
       "      <td>346.00</td>\n",
       "      <td>2.16</td>\n",
       "    </tr>\n",
       "  </tbody>\n",
       "</table>\n",
       "<p>158 rows × 4 columns</p>\n",
       "</div>"
      ],
      "text/plain": [
       "     condition   onset2   onset  duration\n",
       "0            0    0.000    0.00      4.16\n",
       "1            8    4.160    4.16      2.16\n",
       "2            0    6.320    6.32      0.48\n",
       "3            8    6.800    6.80      2.16\n",
       "4            0    8.960    8.96      3.60\n",
       "..         ...      ...     ...       ...\n",
       "153          0  338.076  338.08      1.36\n",
       "154          5  339.436  339.44      2.72\n",
       "155         10  342.157  342.16      2.16\n",
       "156          0  344.316  344.32      1.68\n",
       "157         10  345.997  346.00      2.16\n",
       "\n",
       "[158 rows x 4 columns]"
      ]
     },
     "execution_count": 59,
     "metadata": {},
     "output_type": "execute_result"
    }
   ],
   "source": [
    "# check if onsets are similar in ms and trigger\n",
    "df_ev"
   ]
  },
  {
   "cell_type": "code",
   "execution_count": 54,
   "id": "17af8b02-b6db-4e63-903c-a768edfd2523",
   "metadata": {
    "tags": []
   },
   "outputs": [
    {
     "name": "stdout",
     "output_type": "stream",
     "text": [
      "[ 0  1  2  3  4  5  6  7  8  9 10]\n"
     ]
    }
   ],
   "source": [
    "# check all conditions\n",
    "print(np.unique(df_ev['condition']))"
   ]
  },
  {
   "cell_type": "code",
   "execution_count": 60,
   "id": "6128ccd4-0819-4ef4-89f6-877728c05be3",
   "metadata": {
    "tags": []
   },
   "outputs": [
    {
     "name": "stdout",
     "output_type": "stream",
     "text": [
      "     condition   onset  duration\n",
      "0            0    0.00      4.16\n",
      "1            8    4.16      2.16\n",
      "2            0    6.32      0.48\n",
      "3            8    6.80      2.16\n",
      "4            0    8.96      3.60\n",
      "..         ...     ...       ...\n",
      "153          0  338.08      1.36\n",
      "154          5  339.44      2.72\n",
      "155         10  342.16      2.16\n",
      "156          0  344.32      1.68\n",
      "157         10  346.00      2.16\n",
      "\n",
      "[158 rows x 3 columns]\n"
     ]
    }
   ],
   "source": [
    "print(df_ev[['condition', 'onset', 'duration']])"
   ]
  }
 ],
 "metadata": {
  "kernelspec": {
   "display_name": "Python 3 (ipykernel)",
   "language": "python",
   "name": "python3"
  },
  "language_info": {
   "codemirror_mode": {
    "name": "ipython",
    "version": 3
   },
   "file_extension": ".py",
   "mimetype": "text/x-python",
   "name": "python",
   "nbconvert_exporter": "python",
   "pygments_lexer": "ipython3",
   "version": "3.10.13"
  }
 },
 "nbformat": 4,
 "nbformat_minor": 5
}
